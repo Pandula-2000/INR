{
 "cells": [
  {
   "cell_type": "code",
   "execution_count": 72,
   "metadata": {},
   "outputs": [
    {
     "data": {
      "text/plain": [
       "'import torch\\nfrom torch import nn\\nfrom matplotlib import pyplot as plt\\nimport numpy as np\\n\\npi = np.pi\\n\\nfrom scipy.special import expit as sigmoid\\n\\ndef raised_cosine_filter(beta0, T0, num_points=1000, s=1):\\n    lin = np.linspace(-T0, T0, num_points)\\n    A = np.ones(lin.shape[0]) * ((1 - beta0) / (2 * T0))\\n    B = np.ones(lin.shape[0]) * ((1 + beta0) / (2 * T0))\\n    ABS = np.abs(lin)\\n\\n    return lin, 1 * sigmoid(s * (A - ABS)) + 0.5 *             (1 + np.cos(np.pi * T0 * (ABS - ((1 - beta0) / (2 * T0))) / beta0) * (sigmoid(s * (B - ABS)) - sigmoid(s * (A - ABS))))'"
      ]
     },
     "execution_count": 72,
     "metadata": {},
     "output_type": "execute_result"
    }
   ],
   "source": [
    "'''import torch\n",
    "from torch import nn\n",
    "from matplotlib import pyplot as plt\n",
    "import numpy as np\n",
    "\n",
    "pi = np.pi\n",
    "\n",
    "from scipy.special import expit as sigmoid\n",
    "\n",
    "def raised_cosine_filter(beta0, T0, num_points=1000, s=1):\n",
    "    lin = np.linspace(-T0, T0, num_points)\n",
    "    A = np.ones(lin.shape[0]) * ((1 - beta0) / (2 * T0))\n",
    "    B = np.ones(lin.shape[0]) * ((1 + beta0) / (2 * T0))\n",
    "    ABS = np.abs(lin)\n",
    "\n",
    "    return lin, 1 * sigmoid(s * (A - ABS)) + 0.5 * \\\n",
    "            (1 + np.cos(np.pi * T0 * (ABS - ((1 - beta0) / (2 * T0))) / beta0) * (sigmoid(s * (B - ABS)) - sigmoid(s * (A - ABS))))'''"
   ]
  },
  {
   "cell_type": "code",
   "execution_count": 9,
   "metadata": {},
   "outputs": [],
   "source": [
    "import torch\n",
    "from torch import nn\n",
    "from matplotlib import pyplot as plt\n",
    "import numpy as np\n",
    "\n",
    "pi = np.pi\n",
    "\n",
    "def sigmoid(x): return 1 / (1 + np.exp(-x))\n",
    "\n",
    "def raised_cosine_filter(beta0, T0, num_points=1000, s=1):\n",
    "    lin = np.linspace(-5, 5, num_points)\n",
    "    abs_lin = np.abs(lin)  # Renamed to avoid shadowing 'abs' function\n",
    "\n",
    "    f1 = (1 - beta0) / (2 * T0)\n",
    "    f2 = (1 + beta0) / (2 * T0)\n",
    "    \n",
    "    f_ = T0 / 2 * (1 + np.cos(np.pi * T0 / beta0 * (abs_lin - f1)))  \n",
    "    \n",
    "    out = T0 * (sigmoid(s*(abs_lin)) - sigmoid(s*(abs_lin - f1))) \\\n",
    "     + f_ * (sigmoid(s*(abs_lin - f1)) - sigmoid(s*(abs_lin - f2)))\n",
    "        \n",
    "    return lin, out\n"
   ]
  },
  {
   "cell_type": "code",
   "execution_count": 10,
   "metadata": {},
   "outputs": [
    {
     "ename": "TypeError",
     "evalue": "unsupported operand type(s) for -: 'Threshold' and 'Threshold'",
     "output_type": "error",
     "traceback": [
      "\u001b[1;31m---------------------------------------------------------------------------\u001b[0m",
      "\u001b[1;31mTypeError\u001b[0m                                 Traceback (most recent call last)",
      "Cell \u001b[1;32mIn[10], line 7\u001b[0m\n\u001b[0;32m      4\u001b[0m T \u001b[38;5;241m=\u001b[39m \u001b[38;5;241m0.2\u001b[39m \u001b[38;5;66;03m# Symbol period\u001b[39;00m\n\u001b[0;32m      6\u001b[0m \u001b[38;5;66;03m# Generate filter valuest\\\u001b[39;00m\n\u001b[1;32m----> 7\u001b[0m t, rc_filter \u001b[38;5;241m=\u001b[39m \u001b[43mraised_cosine_filter\u001b[49m\u001b[43m(\u001b[49m\u001b[43mbeta\u001b[49m\u001b[43m,\u001b[49m\u001b[43m \u001b[49m\u001b[43mT\u001b[49m\u001b[43m,\u001b[49m\u001b[43m \u001b[49m\u001b[43ms\u001b[49m\u001b[38;5;241;43m=\u001b[39;49m\u001b[43ms\u001b[49m\u001b[43m)\u001b[49m\n\u001b[0;32m      9\u001b[0m \u001b[38;5;66;03m# Plot the filter\u001b[39;00m\n\u001b[0;32m     10\u001b[0m plt\u001b[38;5;241m.\u001b[39mplot(t, rc_filter)\n",
      "Cell \u001b[1;32mIn[9], line 21\u001b[0m, in \u001b[0;36mraised_cosine_filter\u001b[1;34m(beta0, T0, num_points, s)\u001b[0m\n\u001b[0;32m     18\u001b[0m f_ \u001b[38;5;241m=\u001b[39m T0 \u001b[38;5;241m/\u001b[39m \u001b[38;5;241m2\u001b[39m \u001b[38;5;241m*\u001b[39m (\u001b[38;5;241m1\u001b[39m \u001b[38;5;241m+\u001b[39m np\u001b[38;5;241m.\u001b[39mcos(np\u001b[38;5;241m.\u001b[39mpi \u001b[38;5;241m*\u001b[39m T0 \u001b[38;5;241m/\u001b[39m beta0 \u001b[38;5;241m*\u001b[39m (abs_lin \u001b[38;5;241m-\u001b[39m f1)))  \n\u001b[0;32m     20\u001b[0m \u001b[38;5;66;03m#out = T0 * (sigmoid(s*(abs_lin)) - sigmoid(s*(abs_lin - f1))) \u001b[39;00m\n\u001b[1;32m---> 21\u001b[0m out \u001b[38;5;241m=\u001b[39m f_ \u001b[38;5;241m*\u001b[39m (\u001b[43msigmoid\u001b[49m\u001b[43m(\u001b[49m\u001b[43ms\u001b[49m\u001b[38;5;241;43m*\u001b[39;49m\u001b[43m(\u001b[49m\u001b[43mabs_lin\u001b[49m\u001b[43m \u001b[49m\u001b[38;5;241;43m-\u001b[39;49m\u001b[43m \u001b[49m\u001b[43mf1\u001b[49m\u001b[43m)\u001b[49m\u001b[43m,\u001b[49m\u001b[43m \u001b[49m\u001b[43mvalue\u001b[49m\u001b[43m \u001b[49m\u001b[38;5;241;43m=\u001b[39;49m\u001b[43m \u001b[49m\u001b[43mf1\u001b[49m\u001b[43m)\u001b[49m\u001b[43m \u001b[49m\u001b[38;5;241;43m-\u001b[39;49m\u001b[43m \u001b[49m\u001b[43msigmoid\u001b[49m\u001b[43m(\u001b[49m\u001b[43ms\u001b[49m\u001b[38;5;241;43m*\u001b[39;49m\u001b[43m(\u001b[49m\u001b[43mabs_lin\u001b[49m\u001b[43m \u001b[49m\u001b[38;5;241;43m-\u001b[39;49m\u001b[43m \u001b[49m\u001b[43mf2\u001b[49m\u001b[43m)\u001b[49m\u001b[43m,\u001b[49m\u001b[43m \u001b[49m\u001b[43mvalue\u001b[49m\u001b[43m \u001b[49m\u001b[38;5;241;43m=\u001b[39;49m\u001b[43m \u001b[49m\u001b[43mf1\u001b[49m\u001b[43m)\u001b[49m)\n\u001b[0;32m     23\u001b[0m \u001b[38;5;28;01mreturn\u001b[39;00m lin, out\n",
      "\u001b[1;31mTypeError\u001b[0m: unsupported operand type(s) for -: 'Threshold' and 'Threshold'"
     ]
    }
   ],
   "source": [
    "# Parameters\n",
    "s = 1\n",
    "beta = 0.6 # Roll-off factor\n",
    "T = 0.2 # Symbol period\n",
    "\n",
    "# Generate filter valuest\\\n",
    "t, rc_filter = raised_cosine_filter(beta, T, s=s)\n",
    "\n",
    "# Plot the filter\n",
    "plt.plot(t, rc_filter)\n",
    "plt.title('Raised Cosine Filter')\n",
    "plt.xlabel('Time')\n",
    "plt.ylabel('Amplitude')\n",
    "plt.grid(True)\n",
    "plt.show()"
   ]
  },
  {
   "cell_type": "code",
   "execution_count": 77,
   "metadata": {},
   "outputs": [
    {
     "data": {
      "image/png": "[encoded data removed]",
      "text/plain": [
       "<Figure size 640x480 with 1 Axes>"
      ]
     },
     "metadata": {},
     "output_type": "display_data"
    }
   ],
   "source": [
    "import numpy as np\n",
    "import matplotlib.pyplot as plt\n",
    "\n",
    "# Define the sigmoid function\n",
    "def sigmoid(x):\n",
    "    return 1 / (1 + np.exp(-x))\n",
    "\n",
    "# Generate an array of x values (input range)\n",
    "x = np.linspace(-10, 10, 1000)\n",
    "\n",
    "# Apply the sigmoid function to each x value\n",
    "y = sigmoid(10*x)\n",
    "\n",
    "# Plot the sigmoid function\n",
    "plt.plot(x, y)\n",
    "plt.title('Sigmoid Function')\n",
    "plt.xlabel('x')\n",
    "plt.ylabel('sigmoid(x)')\n",
    "plt.grid(True)\n",
    "plt.show()\n"
   ]
  },
  {
   "cell_type": "code",
   "execution_count": null,
   "metadata": {},
   "outputs": [],
   "source": []
  }
 ],
 "metadata": {
  "kernelspec": {
   "display_name": "Python 3",
   "language": "python",
   "name": "python3"
  },
  "language_info": {
   "codemirror_mode": {
    "name": "ipython",
    "version": 3
   },
   "file_extension": ".py",
   "mimetype": "text/x-python",
   "name": "python",
   "nbconvert_exporter": "python",
   "pygments_lexer": "ipython3",
   "version": "3.11.4"
  }
 },
 "nbformat": 4,
 "nbformat_minor": 2
}
