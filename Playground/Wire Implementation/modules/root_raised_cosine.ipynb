{
 "cells": [
  {
   "cell_type": "code",
   "execution_count": 1,
   "metadata": {},
   "outputs": [],
   "source": [
    "import numpy as np\n",
    "\n",
    "import torch\n",
    "import torch.nn as nn"
   ]
  },
  {
   "cell_type": "code",
   "execution_count": null,
   "metadata": {},
   "outputs": [],
   "source": [
    "class ComplexGaborLayer(nn.Module):\n",
    "    def __init__(self, in_features, out_features, bias=True,\n",
    "                 is_first=False, omega0=10.0, sigma0=40.0,\n",
    "                 trainable=False):\n",
    "        super().__init__()\n",
    "        self.omega_0 = omega0\n",
    "        self.scale_0 = sigma0\n",
    "        self.is_first = is_first\n",
    "        self.in_features = in_features\n",
    "        \n",
    "        if self.is_first: dtype = torch.float()\n",
    "        else: dtype = torch.cfloat()\n",
    "        \n",
    "        self.omega_0 = nn.Parameter(self.omega_0*torch.ones(1), trainable)\n",
    "        self.scale_0 = nn.Parameter(self.scale_0*torch.ones(1), trainable)\n",
    "        \n",
    "        self.linear = nn.Linear(in_features,\n",
    "                                out_features,\n",
    "                                bias=bias,\n",
    "                                dtype=dtype)\n",
    "        \n",
    "    def forward(self, input):\n",
    "        lin = self.linear(input)\n",
    "        omega = self.omega_0*lin\n",
    "        scale = self.scale_0*lin\n",
    "        \n",
    "        return torch.exp(1j*omega - scale.abs().square())"
   ]
  },
  {
   "cell_type": "code",
   "execution_count": null,
   "metadata": {},
   "outputs": [],
   "source": [
    "class Wire(nn.Moduel):\n",
    "    def __init__(self, in_features, hidden_features, hidden_layers,\n",
    "                 out_features, outermost_linear=True,\n",
    "                 first_omega_0=30, hidden_omega_0=30, scale=10.0,\n",
    "                 pos_encode=False, side_length=512, fn_samples=None,\n",
    "                 use_nyquist=True):\n",
    "        super().__init__()\n",
    "        \n",
    "        self.nonline = ComplexGaborLayer\n",
    "        \n",
    "        hidden_features = int(hidden_features/np.sqrt(2))\n",
    "        dtype = torch.cfloat\n",
    "        self.complex = True\n",
    "        self.wavelet = 'gabor'\n",
    "        \n",
    "        self.pos_encode = False\n",
    "        \n",
    "        self.net = []\n",
    "        self.net.append(self.nonlin(in_features,\n",
    "                                    hidden_features,\n",
    "                                    omega0=first_omega_0,\n",
    "                                    sigma=scale,\n",
    "                                    is_first=True,\n",
    "                                    trainabe=False))\n",
    "        \n",
    "        for i in range(hidden_layers):\n",
    "            self.net.append(self.nonlin(hidden_features,\n",
    "                                        hidden_features,\n",
    "                                        omega0=hidden_omega_0,\n",
    "                                        sigma0=scale))\n",
    "            \n",
    "        final_linear = nn.Linear(hidden_features,\n",
    "                                 out_features,\n",
    "                                 dtype=dtype)\n",
    "        \n",
    "        self.net.append(final_linear)\n",
    "        \n",
    "        self.net = nn.Sequential(*self.net)\n",
    "    \n",
    "    def forward(self, coords):\n",
    "        output = self.net(coords)\n",
    "        \n",
    "        if self.wavelet == 'gabor':\n",
    "            return output.real\n",
    "        \n",
    "        return output"
   ]
  }
 ],
 "metadata": {
  "kernelspec": {
   "display_name": "Python 3",
   "language": "python",
   "name": "python3"
  },
  "language_info": {
   "codemirror_mode": {
    "name": "ipython",
    "version": 3
   },
   "file_extension": ".py",
   "mimetype": "text/x-python",
   "name": "python",
   "nbconvert_exporter": "python",
   "pygments_lexer": "ipython3",
   "version": "3.11.4"
  }
 },
 "nbformat": 4,
 "nbformat_minor": 2
}
