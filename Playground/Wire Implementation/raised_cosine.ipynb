{
  "cells": [
    {
      "cell_type": "code",
      "source": [
        "from google.colab import drive\n",
        "drive.mount('/content/drive')\n",
        "\n",
        "%cd '/content/drive/Shareddrives/Personal/INR/Playground/Wire Implementation'"
      ],
      "metadata": {
        "colab": {
          "base_uri": "https://localhost:8080/"
        },
        "id": "JlVPuLr-BLvP",
        "outputId": "56ce0fe4-de76-4f84-b452-d779aaafa4fe"
      },
      "id": "JlVPuLr-BLvP",
      "execution_count": null,
      "outputs": [
        {
          "output_type": "stream",
          "name": "stdout",
          "text": [
            "Mounted at /content/drive\n",
            "/content/drive/Shareddrives/Personal/INR/Playground/Wire Implementation\n"
          ]
        }
      ]
    },
    {
      "cell_type": "markdown",
      "id": "625a1840",
      "metadata": {
        "id": "625a1840"
      },
      "source": [
        "## Code"
      ]
    },
    {
      "cell_type": "code",
      "execution_count": null,
      "id": "7426ee9d255761a9",
      "metadata": {
        "ExecuteTime": {
          "end_time": "2024-10-10T05:56:49.710265Z",
          "start_time": "2024-10-10T05:56:39.031341Z"
        },
        "colab": {
          "base_uri": "https://localhost:8080/",
          "height": 472
        },
        "id": "7426ee9d255761a9",
        "outputId": "2af38106-5ed2-4a17-ec73-2265d4c6a42f"
      },
      "outputs": [
        {
          "output_type": "display_data",
          "data": {
            "text/plain": [
              "<Figure size 640x480 with 1 Axes>"
            ],
            "image/png": "[encoded data removed]"
          },
          "metadata": {}
        }
      ],
      "source": [
        "import os\n",
        "from tqdm import tqdm\n",
        "import time\n",
        "import numpy as np\n",
        "from scipy import io\n",
        "import matplotlib.pyplot as plt\n",
        "import cv2\n",
        "import torch\n",
        "import torch.nn\n",
        "from torch.optim.lr_scheduler import LambdaLR\n",
        "from modules import models\n",
        "from modules import utils"
      ]
    },
    {
      "cell_type": "code",
      "execution_count": null,
      "id": "a2f06da8141491b3",
      "metadata": {
        "ExecuteTime": {
          "end_time": "2024-10-10T05:56:58.870987Z",
          "start_time": "2024-10-10T05:56:58.866130Z"
        },
        "id": "a2f06da8141491b3"
      },
      "outputs": [],
      "source": [
        "T0 = 0.2\n",
        "b0 = 0.6\n",
        "noisy = False\n",
        "nonlin = 'raisedCos'            # type of nonlinearity, 'wire', 'siren', 'mfn', 'relu', 'posenc', 'gauss'\n",
        "niters = 2000               # Number of SGD iterations\n",
        "learning_rate = 5e-3        # Learning rate.\n",
        "\n",
        "    # WIRE works best at 5e-3 to 2e-2, Gauss and SIREN at 1e-3 - 2e-3,\n",
        "# MFN at 1e-2 - 5e-2, and positional encoding at 5e-4 to 1e-3\n",
        "\n",
        "tau = 3e1                   # Photon noise (max. mean lambda). Set to 3e7 for representation, 3e1 for denoising\n",
        "noise_snr = 2               # Readout noise (dB)\n",
        "\n",
        "# Gabor filter constants.\n",
        "# We suggest omega0 = 4 and sigma0 = 4 for denoising, and omega0=20, sigma0=30 for image representation\n",
        "omega0 = 4.0           # Frequency of sinusoid\n",
        "sigma0 = 4.0           # Sigma of Gaussian\n",
        "\n",
        "# Network parameters\n",
        "hidden_layers = 4       # Number of hidden layers in the MLP\n",
        "hidden_features = 256   # Number of hidden units per layer\n",
        "maxpoints = 256*256     # Batch size\n"
      ]
    },
    {
      "cell_type": "code",
      "execution_count": null,
      "id": "13cc23498f4bb709",
      "metadata": {
        "ExecuteTime": {
          "end_time": "2024-10-10T05:57:03.698719Z",
          "start_time": "2024-10-10T05:57:03.569434Z"
        },
        "id": "13cc23498f4bb709"
      },
      "outputs": [],
      "source": [
        "# Read image and scale. A scale of 0.5 for parrot image ensures that it\n",
        "# fits in a 12GB GPU\n",
        "im = utils.normalize(plt.imread('images/parrot.png').astype(np.float32), True)\n",
        "im = cv2.resize(im, None, fx=1/2, fy=1/2, interpolation=cv2.INTER_AREA)\n",
        "H, W, _ = im.shape"
      ]
    },
    {
      "cell_type": "code",
      "execution_count": null,
      "id": "44dfb5ad935a7278",
      "metadata": {
        "ExecuteTime": {
          "end_time": "2024-10-10T05:57:04.709094Z",
          "start_time": "2024-10-10T05:57:04.385012Z"
        },
        "id": "44dfb5ad935a7278"
      },
      "outputs": [],
      "source": [
        "# Create a noisy image\n",
        "im_noisy = utils.measure(im, noise_snr, tau)"
      ]
    },
    {
      "cell_type": "code",
      "execution_count": null,
      "id": "ef35bc8f7e14bba4",
      "metadata": {
        "ExecuteTime": {
          "end_time": "2024-10-10T05:57:05.306950Z",
          "start_time": "2024-10-10T05:57:05.302242Z"
        },
        "id": "ef35bc8f7e14bba4"
      },
      "outputs": [],
      "source": [
        "if nonlin == 'posenc':\n",
        "    nonlin = 'relu'\n",
        "    posencode = True\n",
        "\n",
        "    if tau < 100:\n",
        "        sidelength = int(max(H, W)/3)\n",
        "    else:\n",
        "        sidelength = int(max(H, W))\n",
        "\n",
        "else:\n",
        "    posencode = False\n",
        "    sidelength = H"
      ]
    },
    {
      "cell_type": "code",
      "execution_count": null,
      "id": "3dc4a2b40bcdb64c",
      "metadata": {
        "ExecuteTime": {
          "end_time": "2024-10-10T05:57:06.768900Z",
          "start_time": "2024-10-10T05:57:06.460087Z"
        },
        "colab": {
          "base_uri": "https://localhost:8080/"
        },
        "id": "3dc4a2b40bcdb64c",
        "outputId": "b8eccf5d-0e69-4bba-a6ae-29da29a754bd"
      },
      "outputs": [
        {
          "output_type": "stream",
          "name": "stdout",
          "text": [
            "Number of parameters:  264717\n",
            "Input PSNR: 17.64 dB\n"
          ]
        }
      ],
      "source": [
        "model = models.get_INR(\n",
        "                    nonlin=nonlin,\n",
        "                    in_features=2,\n",
        "                    out_features=3,\n",
        "                    hidden_features=hidden_features,\n",
        "                    hidden_layers=hidden_layers,\n",
        "                    first_omega_0=omega0,\n",
        "                    hidden_omega_0=omega0,\n",
        "                    beta0=b0,\n",
        "                    T0=T0,\n",
        "                    scale=sigma0,\n",
        "                    pos_encode=posencode,\n",
        "                    sidelength=sidelength)\n",
        "\n",
        "    # Send model to CUDA\n",
        "model.cuda()\n",
        "\n",
        "print('Number of parameters: ', utils.count_parameters(model))\n",
        "print('Input PSNR: %.2f dB'%utils.psnr(im, im_noisy))"
      ]
    },
    {
      "cell_type": "code",
      "execution_count": null,
      "id": "4b5cd499c0a9d078",
      "metadata": {
        "ExecuteTime": {
          "end_time": "2024-10-10T05:57:09.516972Z",
          "start_time": "2024-10-10T05:57:07.687921Z"
        },
        "id": "4b5cd499c0a9d078"
      },
      "outputs": [],
      "source": [
        "# Create an optimizer\n",
        "optim = torch.optim.Adam(lr=learning_rate*min(1, maxpoints/(H*W)),\n",
        "                         params=model.parameters())\n",
        "\n",
        "# Schedule to reduce lr to 0.1 times the initial rate in final epoch\n",
        "scheduler = LambdaLR(optim, lambda x: 0.1**min(x/niters, 1))"
      ]
    },
    {
      "cell_type": "code",
      "execution_count": null,
      "id": "dc2218122ad038d1",
      "metadata": {
        "ExecuteTime": {
          "end_time": "2024-10-10T05:57:10.440782Z",
          "start_time": "2024-10-10T05:57:10.279161Z"
        },
        "id": "dc2218122ad038d1"
      },
      "outputs": [],
      "source": [
        "x = torch.linspace(-1, 1, W)\n",
        "y = torch.linspace(-1, 1, H)\n",
        "\n",
        "X, Y = torch.meshgrid(x, y, indexing='xy')\n",
        "coords = torch.hstack((X.reshape(-1, 1), Y.reshape(-1, 1)))[None, ...]\n",
        "\n",
        "gt = torch.tensor(im).cuda().reshape(H*W, 3)[None, ...]\n",
        "gt_noisy = torch.tensor(im_noisy).cuda().reshape(H*W, 3)[None, ...]\n",
        "\n",
        "if noisy: img = gt_noisy\n",
        "else: img = gt\n",
        "\n",
        "mse_array = torch.zeros(niters, device='cuda')\n",
        "mse_loss_array = torch.zeros(niters, device='cuda')\n",
        "consts_b0 = []\n",
        "consts_T0 = []\n",
        "time_array = torch.zeros_like(mse_array)\n",
        "\n",
        "best_mse = torch.tensor(float('inf'))\n",
        "best_img = None\n",
        "\n",
        "rec = torch.zeros_like(gt)\n",
        "\n",
        "init_time = time.time()"
      ]
    },
    {
      "cell_type": "code",
      "execution_count": null,
      "id": "4f3a1f9c9cc8154f",
      "metadata": {
        "ExecuteTime": {
          "end_time": "2024-10-10T06:56:47.446500Z",
          "start_time": "2024-10-10T05:57:13.884436Z"
        },
        "colab": {
          "base_uri": "https://localhost:8080/"
        },
        "id": "4f3a1f9c9cc8154f",
        "outputId": "91511ff4-464f-4f57-ceeb-3559e99312a7"
      },
      "outputs": [
        {
          "output_type": "stream",
          "name": "stderr",
          "text": [
            "13.1: 100%|█████████▉| 1996/2000 [1:13:12<00:08,  2.20s/it]"
          ]
        }
      ],
      "source": [
        "tbar = tqdm(range(niters))\n",
        "# -------------------------------- Training Loop ---------------------------------\n",
        "for epoch in tbar:\n",
        "    indices = torch.randperm(H*W)\n",
        "\n",
        "    for b_idx in range(0, H*W, maxpoints):\n",
        "        b_indices = indices[b_idx:min(H*W, b_idx+maxpoints)]\n",
        "        b_coords = coords[:, b_indices, ...].cuda()\n",
        "        b_indices = b_indices.cuda()\n",
        "        pixelvalues = model(b_coords)\n",
        "\n",
        "        with torch.no_grad():\n",
        "            rec[:, b_indices, :] = pixelvalues\n",
        "\n",
        "        loss = ((pixelvalues - img[:, b_indices, :])**2).mean()\n",
        "\n",
        "        optim.zero_grad()\n",
        "        loss.backward()\n",
        "        optim.step()\n",
        "\n",
        "    time_array[epoch] = time.time() - init_time\n",
        "\n",
        "    with torch.no_grad():\n",
        "        mse_loss_array[epoch] = ((img - rec)**2).mean().item()\n",
        "        mse_array[epoch] = ((gt - rec)**2).mean().item()\n",
        "        consts_b0.append([getattr(layer, 'beta0').cpu().item() for layer in model.net.modules() if hasattr(layer, 'beta0')])\n",
        "        consts_T0.append([getattr(layer, 'T0').cpu().item() for layer in model.net.modules() if hasattr(layer, 'T0')])\n",
        "        im_gt = gt.reshape(H, W, 3).permute(2, 0, 1)[None, ...]\n",
        "        im_rec = rec.reshape(H, W, 3).permute(2, 0, 1)[None, ...]\n",
        "\n",
        "        psnrval = -10*torch.log10(mse_array[epoch])\n",
        "        tbar.set_description('%.1f'%psnrval)\n",
        "        tbar.refresh()\n",
        "\n",
        "    scheduler.step()\n",
        "\n",
        "    imrec = rec[0, ...].reshape(H, W, 3).detach().cpu().numpy()\n",
        "\n",
        "    if (mse_array[epoch] < best_mse) or (epoch == 0):\n",
        "        best_img = imrec\n",
        "        best_epoch = epoch\n",
        "\n",
        "if posencode:\n",
        "    nonlin = 'posenc'\n",
        "\n",
        "# for noiseless training, mse_array and mse_noisy_array are same\n",
        "mdict = {'rec': best_img, # a tupe with (imrec, best_mse, epoch)\n",
        "         'epoch': best_epoch,\n",
        "         'gt': im,\n",
        "         'im_noisy': im_noisy,\n",
        "         'mse_noisy_array': mse_loss_array.detach().cpu().numpy(),\n",
        "         'mse_array': mse_array.detach().cpu().numpy(),\n",
        "         'consts_array': (consts_b0,consts_b0), # (list with (beta0,T0)s)\n",
        "         'time_array': time_array.detach().cpu().numpy()}\n",
        "\n",
        "os.makedirs('results/denoising', exist_ok=True)\n",
        "io.savemat(f\"results/denoising/{nonlin}_T{T0}_b{b0}_noisy({noisy})_hiddenLayrs({hidden_layers}).mat\", mdict)\n",
        "\n",
        "print('Best PSNR: %.2f dB'%utils.psnr(im, best_img))"
      ]
    },
    {
      "cell_type": "code",
      "source": [
        "print('Best PSNR: %.2f dB'%utils.psnr(im, mdict['rec']))"
      ],
      "metadata": {
        "id": "dksilNDpcvZc"
      },
      "id": "dksilNDpcvZc",
      "execution_count": null,
      "outputs": []
    },
    {
      "cell_type": "markdown",
      "id": "fdc38ff3",
      "metadata": {
        "id": "fdc38ff3"
      },
      "source": [
        "## View Mat"
      ]
    },
    {
      "cell_type": "code",
      "execution_count": null,
      "id": "1531b81f",
      "metadata": {
        "id": "1531b81f"
      },
      "outputs": [],
      "source": [
        "import numpy as np\n",
        "from scipy import io\n",
        "import matplotlib.pyplot as plt\n",
        "from modules.utils import psnr\n"
      ]
    },
    {
      "cell_type": "code",
      "execution_count": null,
      "id": "71227262",
      "metadata": {
        "id": "71227262"
      },
      "outputs": [],
      "source": [
        "mats = io.loadmat('./results/denoising/raisedCos_T0.33_b0.33.mat')"
      ]
    },
    {
      "cell_type": "code",
      "execution_count": null,
      "id": "8f0c19c1",
      "metadata": {
        "id": "8f0c19c1"
      },
      "outputs": [],
      "source": [
        "mats.keys()"
      ]
    },
    {
      "cell_type": "code",
      "execution_count": null,
      "id": "f935b77f",
      "metadata": {
        "id": "f935b77f"
      },
      "outputs": [],
      "source": [
        "img = mats['rec']\n",
        "plt.imshow(img)\n",
        "plt.title('Best Image')\n",
        "plt.axis('off')  # Hide axis\n",
        "plt.show()"
      ]
    },
    {
      "cell_type": "code",
      "execution_count": null,
      "id": "2c2a339f",
      "metadata": {
        "id": "2c2a339f"
      },
      "outputs": [],
      "source": [
        "print(f\"PSNR added noise: {psnr(mats['gt'], mats['im_noisy']):.4f}\")\n",
        "print(f\"PSNR reconstruction noise: {psnr(mats['gt'], mats['rec']):.4f}\")"
      ]
    },
    {
      "cell_type": "code",
      "execution_count": null,
      "id": "9270050d",
      "metadata": {
        "id": "9270050d"
      },
      "outputs": [],
      "source": [
        "import matplotlib.pyplot as plt\n",
        "\n",
        "# Sample data\n",
        "x = np.arange(2000)\n",
        "y = mats['mse_noisy_array'].reshape(-1,1)\n",
        "\n",
        "# Create a line plot\n",
        "plt.plot(x, y, marker='.', linestyle='-', color='b', label='Data Points')\n",
        "\n",
        "# Adding labels and title\n",
        "plt.xlabel('X-axis Label')\n",
        "plt.ylabel('Y-axis Label')\n",
        "plt.title('Sample Line Plot')\n",
        "plt.legend()\n",
        "plt.grid()\n",
        "\n",
        "# Show the plot\n",
        "plt.show()\n"
      ]
    }
  ],
  "metadata": {
    "kernelspec": {
      "display_name": "Python 3",
      "name": "python3"
    },
    "language_info": {
      "codemirror_mode": {
        "name": "ipython",
        "version": 3
      },
      "file_extension": ".py",
      "mimetype": "text/x-python",
      "name": "python",
      "nbconvert_exporter": "python",
      "pygments_lexer": "ipython3",
      "version": "3.11.4"
    },
    "colab": {
      "provenance": [],
      "gpuType": "T4"
    },
    "accelerator": "GPU"
  },
  "nbformat": 4,
  "nbformat_minor": 5
}