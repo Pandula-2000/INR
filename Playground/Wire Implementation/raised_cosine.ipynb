{
 "cells": [
  {
   "cell_type": "code",
   "id": "7426ee9d255761a9",
   "metadata": {
    "ExecuteTime": {
     "end_time": "2024-10-10T05:56:49.710265Z",
     "start_time": "2024-10-10T05:56:39.031341Z"
    }
   },
   "source": [
    "import sys\n",
    "import os\n",
    "from tqdm import tqdm\n",
    "import importlib\n",
    "import time\n",
    "import numpy as np\n",
    "from scipy import io\n",
    "import matplotlib.pyplot as plt\n",
    "import cv2\n",
    "from skimage.metrics import structural_similarity as ssim_func\n",
    "import torch\n",
    "import torch.nn\n",
    "from torch.optim.lr_scheduler import LambdaLR\n",
    "from pytorch_msssim import ssim\n",
    "from modules import models\n",
    "from modules import utils"
   ],
   "outputs": [
    {
     "name": "stdout",
     "output_type": "stream",
     "text": [
      "tensor([-1,  2,  1,  0])\n",
      "101\n"
     ]
    },
    {
     "name": "stderr",
     "output_type": "stream",
     "text": [
      "X:\\PROJECTS\\INR\\Playground\\Wire Implementation\\modules\\utils.py:235: SyntaxWarning: \"is not\" with a literal. Did you mean \"!=\"?\n",
      "  if nfilters_vis is not 'all':\n"
     ]
    }
   ],
   "execution_count": 1
  },
  {
   "cell_type": "code",
   "id": "a2f06da8141491b3",
   "metadata": {
    "ExecuteTime": {
     "end_time": "2024-10-10T05:56:58.870987Z",
     "start_time": "2024-10-10T05:56:58.866130Z"
    }
   },
   "source": [
    "T0 = 0.1\n",
    "b0 = 0.5\n",
    "nonlin = 'raisedCos'            # type of nonlinearity, 'wire', 'siren', 'mfn', 'relu', 'posenc', 'gauss'\n",
    "niters = 2000               # Number of SGD iterations\n",
    "learning_rate = 5e-3        # Learning rate. \n",
    "\n",
    "    # WIRE works best at 5e-3 to 2e-2, Gauss and SIREN at 1e-3 - 2e-3,\n",
    "# MFN at 1e-2 - 5e-2, and positional encoding at 5e-4 to 1e-3 \n",
    "\n",
    "tau = 3e1                   # Photon noise (max. mean lambda). Set to 3e7 for representation, 3e1 for denoising\n",
    "noise_snr = 2               # Readout noise (dB)\n",
    "\n",
    "# Gabor filter constants.\n",
    "# We suggest omega0 = 4 and sigma0 = 4 for denoising, and omega0=20, sigma0=30 for image representation\n",
    "omega0 = 4.0           # Frequency of sinusoid\n",
    "sigma0 = 4.0           # Sigma of Gaussian\n",
    "\n",
    "# Network parameters\n",
    "hidden_layers = 2       # Number of hidden layers in the MLP\n",
    "hidden_features = 256   # Number of hidden units per layer\n",
    "maxpoints = 256*256     # Batch size\n"
   ],
   "outputs": [],
   "execution_count": 2
  },
  {
   "cell_type": "code",
   "id": "13cc23498f4bb709",
   "metadata": {
    "ExecuteTime": {
     "end_time": "2024-10-10T05:57:03.698719Z",
     "start_time": "2024-10-10T05:57:03.569434Z"
    }
   },
   "source": [
    "# Read image and scale. A scale of 0.5 for parrot image ensures that it\n",
    "# fits in a 12GB GPU\n",
    "im = utils.normalize(plt.imread('images/parrot.png').astype(np.float32), True)\n",
    "im = cv2.resize(im, None, fx=1/2, fy=1/2, interpolation=cv2.INTER_AREA)\n",
    "H, W, _ = im.shape"
   ],
   "outputs": [],
   "execution_count": 3
  },
  {
   "cell_type": "code",
   "id": "44dfb5ad935a7278",
   "metadata": {
    "ExecuteTime": {
     "end_time": "2024-10-10T05:57:04.709094Z",
     "start_time": "2024-10-10T05:57:04.385012Z"
    }
   },
   "source": [
    "# Create a noisy image\n",
    "im_noisy = utils.measure(im, noise_snr, tau)"
   ],
   "outputs": [],
   "execution_count": 4
  },
  {
   "cell_type": "code",
   "id": "ef35bc8f7e14bba4",
   "metadata": {
    "ExecuteTime": {
     "end_time": "2024-10-10T05:57:05.306950Z",
     "start_time": "2024-10-10T05:57:05.302242Z"
    }
   },
   "source": [
    "if nonlin == 'posenc':\n",
    "    nonlin = 'relu'\n",
    "    posencode = True\n",
    "    \n",
    "    if tau < 100:\n",
    "        sidelength = int(max(H, W)/3)\n",
    "    else:\n",
    "        sidelength = int(max(H, W))\n",
    "        \n",
    "else:\n",
    "    posencode = False\n",
    "    sidelength = H"
   ],
   "outputs": [],
   "execution_count": 5
  },
  {
   "cell_type": "code",
   "id": "3dc4a2b40bcdb64c",
   "metadata": {
    "ExecuteTime": {
     "end_time": "2024-10-10T05:57:06.768900Z",
     "start_time": "2024-10-10T05:57:06.460087Z"
    }
   },
   "source": [
    "model = models.get_INR(\n",
    "                    nonlin=nonlin,\n",
    "                    in_features=2,\n",
    "                    out_features=3, \n",
    "                    hidden_features=hidden_features,\n",
    "                    hidden_layers=hidden_layers,\n",
    "                    first_omega_0=omega0,\n",
    "                    hidden_omega_0=omega0,\n",
    "                    scale=sigma0,\n",
    "                    pos_encode=posencode,\n",
    "                    sidelength=sidelength)\n",
    "        \n",
    "    # Send model to CUDA\n",
    "model.cuda()\n",
    "\n",
    "print('Number of parameters: ', utils.count_parameters(model))\n",
    "print('Input PSNR: %.2f dB'%utils.psnr(im, im_noisy))"
   ],
   "outputs": [
    {
     "name": "stdout",
     "output_type": "stream",
     "text": [
      "Number of parameters:  133123\n",
      "Input PSNR: 17.65 dB\n"
     ]
    }
   ],
   "execution_count": 6
  },
  {
   "cell_type": "code",
   "id": "4b5cd499c0a9d078",
   "metadata": {
    "ExecuteTime": {
     "end_time": "2024-10-10T05:57:09.516972Z",
     "start_time": "2024-10-10T05:57:07.687921Z"
    }
   },
   "source": [
    "# Create an optimizer\n",
    "optim = torch.optim.Adam(lr=learning_rate*min(1, maxpoints/(H*W)),\n",
    "                         params=model.parameters())\n",
    "\n",
    "# Schedule to reduce lr to 0.1 times the initial rate in final epoch\n",
    "scheduler = LambdaLR(optim, lambda x: 0.1**min(x/niters, 1))"
   ],
   "outputs": [],
   "execution_count": 7
  },
  {
   "cell_type": "code",
   "id": "dc2218122ad038d1",
   "metadata": {
    "ExecuteTime": {
     "end_time": "2024-10-10T05:57:10.440782Z",
     "start_time": "2024-10-10T05:57:10.279161Z"
    }
   },
   "source": [
    "x = torch.linspace(-1, 1, W)\n",
    "y = torch.linspace(-1, 1, H)\n",
    "\n",
    "X, Y = torch.meshgrid(x, y, indexing='xy')\n",
    "coords = torch.hstack((X.reshape(-1, 1), Y.reshape(-1, 1)))[None, ...]\n",
    "\n",
    "gt = torch.tensor(im).cuda().reshape(H*W, 3)[None, ...]\n",
    "gt_noisy = torch.tensor(im_noisy).cuda().reshape(H*W, 3)[None, ...]\n",
    "\n",
    "mse_array = torch.zeros(niters, device='cuda')\n",
    "mse_loss_array = torch.zeros(niters, device='cuda')\n",
    "time_array = torch.zeros_like(mse_array)\n",
    "\n",
    "best_mse = torch.tensor(float('inf'))\n",
    "best_img = None\n",
    "\n",
    "rec = torch.zeros_like(gt)\n",
    "\n",
    "init_time = time.time()"
   ],
   "outputs": [],
   "execution_count": 8
  },
  {
   "cell_type": "code",
   "id": "4f3a1f9c9cc8154f",
   "metadata": {
    "ExecuteTime": {
     "end_time": "2024-10-10T06:56:47.446500Z",
     "start_time": "2024-10-10T05:57:13.884436Z"
    }
   },
   "source": [
    "tbar = tqdm(range(niters))\n",
    "# -------------------------------- Training Loop ---------------------------------\n",
    "for epoch in tbar:\n",
    "    indices = torch.randperm(H*W)\n",
    "    \n",
    "    for b_idx in range(0, H*W, maxpoints):\n",
    "        b_indices = indices[b_idx:min(H*W, b_idx+maxpoints)]\n",
    "        b_coords = coords[:, b_indices, ...].cuda()\n",
    "        b_indices = b_indices.cuda()\n",
    "        pixelvalues = model(b_coords)\n",
    "        \n",
    "        with torch.no_grad():\n",
    "            rec[:, b_indices, :] = pixelvalues\n",
    "\n",
    "        loss = ((pixelvalues - gt_noisy[:, b_indices, :])**2).mean() \n",
    "        \n",
    "        optim.zero_grad()\n",
    "        loss.backward()\n",
    "        optim.step()\n",
    "    \n",
    "    time_array[epoch] = time.time() - init_time\n",
    "    \n",
    "    with torch.no_grad():\n",
    "        mse_loss_array[epoch] = ((gt_noisy - rec)**2).mean().item()\n",
    "        mse_array[epoch] = ((gt - rec)**2).mean().item()\n",
    "        im_gt = gt.reshape(H, W, 3).permute(2, 0, 1)[None, ...]\n",
    "        im_rec = rec.reshape(H, W, 3).permute(2, 0, 1)[None, ...]\n",
    "    \n",
    "        psnrval = -10*torch.log10(mse_array[epoch])\n",
    "        tbar.set_description('%.1f'%psnrval)\n",
    "        tbar.refresh()\n",
    "    \n",
    "    scheduler.step()\n",
    "    \n",
    "    imrec = rec[0, ...].reshape(H, W, 3).detach().cpu().numpy()\n",
    "        \n",
    "    cv2.imshow('Reconstruction', imrec[..., ::-1])            \n",
    "    cv2.waitKey(1)\n",
    "\n",
    "    if (mse_array[epoch] < best_mse) or (epoch == 0):\n",
    "        best_mse = mse_array[epoch]\n",
    "        best_img = imrec\n",
    "\n",
    "if posencode:\n",
    "    nonlin = 'posenc'\n",
    "    \n",
    "mdict = {'rec': best_img,\n",
    "         'gt': im,\n",
    "         'im_noisy': im_noisy,\n",
    "         'mse_noisy_array': mse_loss_array.detach().cpu().numpy(), \n",
    "         'mse_array': mse_array.detach().cpu().numpy(),\n",
    "         'time_array': time_array.detach().cpu().numpy()}\n",
    "\n",
    "os.makedirs('results/denoising', exist_ok=True)\n",
    "io.savemat(f\"results/denoising/{nonlin}_T{T0}_b{b0}.mat\", mdict)\n",
    "\n",
    "print('Best PSNR: %.2f dB'%utils.psnr(im, best_img))"
   ],
   "outputs": [
    {
     "name": "stderr",
     "output_type": "stream",
     "text": [
      "23.7: 100%|██████████| 2000/2000 [59:33<00:00,  1.79s/it] "
     ]
    },
    {
     "name": "stdout",
     "output_type": "stream",
     "text": [
      "Best PSNR: 23.72 dB\n"
     ]
    },
    {
     "name": "stderr",
     "output_type": "stream",
     "text": [
      "\n"
     ]
    }
   ],
   "execution_count": 9
  },
  {
   "cell_type": "code",
   "id": "332c22f492daced",
   "metadata": {
    "ExecuteTime": {
     "end_time": "2024-10-10T06:58:32.020016Z",
     "start_time": "2024-10-10T06:58:31.870550Z"
    }
   },
   "source": [
    "best_img = mdict['best_img']\n",
    "plt.imshow(best_img)\n",
    "plt.title('Best Image')\n",
    "plt.axis('off')  # Hide axis\n",
    "plt.show()"
   ],
   "outputs": [
    {
     "ename": "KeyError",
     "evalue": "'best_img'",
     "output_type": "error",
     "traceback": [
      "\u001B[1;31m---------------------------------------------------------------------------\u001B[0m",
      "\u001B[1;31mKeyError\u001B[0m                                  Traceback (most recent call last)",
      "Cell \u001B[1;32mIn[10], line 1\u001B[0m\n\u001B[1;32m----> 1\u001B[0m best_img \u001B[38;5;241m=\u001B[39m \u001B[43mmdict\u001B[49m\u001B[43m[\u001B[49m\u001B[38;5;124;43m'\u001B[39;49m\u001B[38;5;124;43mbest_img\u001B[39;49m\u001B[38;5;124;43m'\u001B[39;49m\u001B[43m]\u001B[49m\n\u001B[0;32m      2\u001B[0m plt\u001B[38;5;241m.\u001B[39mimshow(best_img)\n\u001B[0;32m      3\u001B[0m plt\u001B[38;5;241m.\u001B[39mtitle(\u001B[38;5;124m'\u001B[39m\u001B[38;5;124mBest Image\u001B[39m\u001B[38;5;124m'\u001B[39m)\n",
      "\u001B[1;31mKeyError\u001B[0m: 'best_img'"
     ]
    }
   ],
   "execution_count": 10
  },
  {
   "cell_type": "code",
   "execution_count": null,
   "id": "4c89fea2c47965b1",
   "metadata": {},
   "outputs": [],
   "source": [
    "best_img.shape\n",
    "plt.imsave('best_image.png', best_img)"
   ]
  },
  {
   "cell_type": "code",
   "execution_count": null,
   "id": "c7feccdbfc8afac0",
   "metadata": {},
   "outputs": [],
   "source": [
    "mdict"
   ]
  },
  {
   "cell_type": "code",
   "execution_count": null,
   "id": "f164c52478a2d6d2",
   "metadata": {},
   "outputs": [],
   "source": []
  }
 ],
 "metadata": {
  "kernelspec": {
   "display_name": "Python 3",
   "language": "python",
   "name": "python3"
  },
  "language_info": {
   "codemirror_mode": {
    "name": "ipython",
    "version": 3
   },
   "file_extension": ".py",
   "mimetype": "text/x-python",
   "name": "python",
   "nbconvert_exporter": "python",
   "pygments_lexer": "ipython3",
   "version": "3.11.4"
  }
 },
 "nbformat": 4,
 "nbformat_minor": 5
}
