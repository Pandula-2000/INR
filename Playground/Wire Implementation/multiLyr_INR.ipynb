{
 "cells": [
  {
   "cell_type": "code",
   "execution_count": null,
   "metadata": {},
   "outputs": [],
   "source": [
    "'''from google.colab import drive\n",
    "drive.mount('/content/drive')\n",
    "\n",
    "%cd '/content/drive/Shareddrives/Personal/INR/Playground/Wire Implementation'''"
   ]
  },
  {
   "cell_type": "code",
   "execution_count": 23,
   "metadata": {},
   "outputs": [],
   "source": [
    "import torch\n",
    "import torch.nn as nn\n",
    "from modules import siren, wire, raised_cosine"
   ]
  },
  {
   "cell_type": "code",
   "execution_count": 24,
   "metadata": {},
   "outputs": [],
   "source": [
    "class Multi_Lyr(nn.Module):\n",
    "    def __init__(self):\n",
    "        super().__init__()\n",
    "        \n",
    "        self.first_lyr = nn.Linear(in_features=2, out_features=256)\n",
    "        \n",
    "        # is_first determines weight initation\n",
    "        self.siren = siren.SineLayer(in_features=256, \n",
    "                                     out_features=256,\n",
    "                                     omega_0=30,\n",
    "                                     init_weights=True,\n",
    "                                     is_first=False)\n",
    "        self.wire = wire.ComplexGaborLayer(in_features=256, \n",
    "                                           out_features=256,\n",
    "                                           omega0=10,\n",
    "                                           sigma0=40, \n",
    "                                           is_first=False)\n",
    "        self.raisedCos = raised_cosine.RaisedCosineLayer(in_features=256, \n",
    "                                                         out_features=256,\n",
    "                                                         T0=0.6,\n",
    "                                                         beta0=0.5,\n",
    "                                                         is_first=False)\n",
    "        \n",
    "        self.last_lyr = nn.Linear(in_features=256, out_features=3)\n",
    "        \n",
    "    def forward(self, x):\n",
    "        # output of wire lyr should be real eg: x = wire(x).real\n",
    "        x = self.first_lyr(x)\n",
    "        x = self.siren(x)\n",
    "        x = self.wire(x.to(torch.cfloat)).real\n",
    "        x = self.raisedCos(x)\n",
    "        x = self.last_lyr(x)\n",
    "        \n",
    "        return x\n",
    "        "
   ]
  },
  {
   "cell_type": "code",
   "execution_count": 25,
   "metadata": {},
   "outputs": [],
   "source": [
    "model = Multi_Lyr().cuda()"
   ]
  },
  {
   "cell_type": "code",
   "execution_count": 26,
   "metadata": {},
   "outputs": [],
   "source": [
    "input = torch.randn(1024,2).cuda()\n",
    "out = model(input)"
   ]
  },
  {
   "cell_type": "code",
   "execution_count": 27,
   "metadata": {},
   "outputs": [
    {
     "data": {
      "text/plain": [
       "torch.Size([1024, 3])"
      ]
     },
     "execution_count": 27,
     "metadata": {},
     "output_type": "execute_result"
    }
   ],
   "source": [
    "out.shape"
   ]
  },
  {
   "cell_type": "code",
   "execution_count": null,
   "metadata": {},
   "outputs": [],
   "source": []
  }
 ],
 "metadata": {
  "kernelspec": {
   "display_name": "Python 3",
   "language": "python",
   "name": "python3"
  },
  "language_info": {
   "codemirror_mode": {
    "name": "ipython",
    "version": 3
   },
   "file_extension": ".py",
   "mimetype": "text/x-python",
   "name": "python",
   "nbconvert_exporter": "python",
   "pygments_lexer": "ipython3",
   "version": "3.11.4"
  }
 },
 "nbformat": 4,
 "nbformat_minor": 2
}
