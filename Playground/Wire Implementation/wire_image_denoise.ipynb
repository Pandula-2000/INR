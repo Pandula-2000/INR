{
 "cells": [
  {
   "cell_type": "code",
   "execution_count": 1,
   "id": "7426ee9d255761a9",
   "metadata": {
    "ExecuteTime": {
     "end_time": "2024-09-26T11:11:37.636891Z",
     "start_time": "2024-09-26T11:11:27.508439Z"
    }
   },
   "outputs": [
    {
     "data": {
      "image/png": "[encoded data removed]",
      "text/plain": [
       "<Figure size 640x480 with 1 Axes>"
      ]
     },
     "metadata": {},
     "output_type": "display_data"
    }
   ],
   "source": [
    "import sys\n",
    "import os\n",
    "from tqdm import tqdm\n",
    "import importlib\n",
    "import time\n",
    "import numpy as np\n",
    "from scipy import io\n",
    "import matplotlib.pyplot as plt\n",
    "import cv2\n",
    "from skimage.metrics import structural_similarity as ssim_func\n",
    "import torch\n",
    "import torch.nn\n",
    "from torch.optim.lr_scheduler import LambdaLR\n",
    "from pytorch_msssim import ssim\n",
    "from modules import models\n",
    "from modules import utils"
   ]
  },
  {
   "cell_type": "code",
   "execution_count": 2,
   "id": "a2f06da8141491b3",
   "metadata": {
    "ExecuteTime": {
     "end_time": "2024-09-26T11:17:06.575699Z",
     "start_time": "2024-09-26T11:17:06.571250Z"
    }
   },
   "outputs": [],
   "source": [
    "nonlin = 'wire'            # type of nonlinearity, 'wire', 'siren', 'mfn', 'relu', 'posenc', 'gauss'\n",
    "niters = 2000               # Number of SGD iterations\n",
    "learning_rate = 5e-3        # Learning rate. \n",
    "\n",
    "    # WIRE works best at 5e-3 to 2e-2, Gauss and SIREN at 1e-3 - 2e-3,\n",
    "# MFN at 1e-2 - 5e-2, and positional encoding at 5e-4 to 1e-3 \n",
    "\n",
    "tau = 3e1                   # Photon noise (max. mean lambda). Set to 3e7 for representation, 3e1 for denoising\n",
    "noise_snr = 2               # Readout noise (dB)\n",
    "\n",
    "# Gabor filter constants.\n",
    "# We suggest omega0 = 4 and sigma0 = 4 for denoising, and omega0=20, sigma0=30 for image representation\n",
    "omega0 = 4.0           # Frequency of sinusoid\n",
    "sigma0 = 4.0           # Sigma of Gaussian\n",
    "\n",
    "# Network parameters\n",
    "hidden_layers = 4       # Number of hidden layers in the MLP\n",
    "hidden_features = 256   # Number of hidden units per layer\n",
    "maxpoints = 256*256     # Batch size\n"
   ]
  },
  {
   "cell_type": "code",
   "execution_count": 3,
   "id": "13cc23498f4bb709",
   "metadata": {},
   "outputs": [],
   "source": [
    "# Read image and scale. A scale of 0.5 for parrot image ensures that it\n",
    "# fits in a 12GB GPU\n",
    "im = utils.normalize(plt.imread('images/parrot.png').astype(np.float32), True)\n",
    "im = cv2.resize(im, None, fx=1/2, fy=1/2, interpolation=cv2.INTER_AREA)\n",
    "H, W, _ = im.shape"
   ]
  },
  {
   "cell_type": "code",
   "execution_count": 4,
   "id": "44dfb5ad935a7278",
   "metadata": {},
   "outputs": [],
   "source": [
    "# Create a noisy image\n",
    "im_noisy = utils.measure(im, noise_snr, tau)"
   ]
  },
  {
   "cell_type": "code",
   "execution_count": 5,
   "id": "ef35bc8f7e14bba4",
   "metadata": {},
   "outputs": [],
   "source": [
    "if nonlin == 'posenc':\n",
    "    nonlin = 'relu'\n",
    "    posencode = True\n",
    "    \n",
    "    if tau < 100:\n",
    "        sidelength = int(max(H, W)/3)\n",
    "    else:\n",
    "        sidelength = int(max(H, W))\n",
    "        \n",
    "else:\n",
    "    posencode = False\n",
    "    sidelength = H"
   ]
  },
  {
   "cell_type": "code",
   "execution_count": 6,
   "id": "3dc4a2b40bcdb64c",
   "metadata": {},
   "outputs": [
    {
     "name": "stdout",
     "output_type": "stream",
     "text": [
      "Number of parameters:  132857\n",
      "Input PSNR: 17.65 dB\n"
     ]
    }
   ],
   "source": [
    "model = models.get_INR(\n",
    "                    nonlin=nonlin,\n",
    "                    in_features=2,\n",
    "                    out_features=3, \n",
    "                    hidden_features=hidden_features,\n",
    "                    hidden_layers=hidden_layers,\n",
    "                    first_omega_0=omega0,\n",
    "                    hidden_omega_0=omega0,\n",
    "                    scale=sigma0,\n",
    "                    pos_encode=posencode,\n",
    "                    sidelength=sidelength)\n",
    "        \n",
    "    # Send model to CUDA\n",
    "model.cuda()\n",
    "\n",
    "print('Number of parameters: ', utils.count_parameters(model))\n",
    "print('Input PSNR: %.2f dB'%utils.psnr(im, im_noisy))"
   ]
  },
  {
   "cell_type": "code",
   "execution_count": 7,
   "id": "4b5cd499c0a9d078",
   "metadata": {},
   "outputs": [],
   "source": [
    "# Create an optimizer\n",
    "optim = torch.optim.Adam(lr=learning_rate*min(1, maxpoints/(H*W)),\n",
    "                         params=model.parameters())\n",
    "\n",
    "# Schedule to reduce lr to 0.1 times the initial rate in final epoch\n",
    "scheduler = LambdaLR(optim, lambda x: 0.1**min(x/niters, 1))"
   ]
  },
  {
   "cell_type": "code",
   "execution_count": 8,
   "id": "dc2218122ad038d1",
   "metadata": {},
   "outputs": [],
   "source": [
    "x = torch.linspace(-1, 1, W)\n",
    "y = torch.linspace(-1, 1, H)\n",
    "\n",
    "X, Y = torch.meshgrid(x, y, indexing='xy')\n",
    "coords = torch.hstack((X.reshape(-1, 1), Y.reshape(-1, 1)))[None, ...]\n",
    "\n",
    "gt = torch.tensor(im).cuda().reshape(H*W, 3)[None, ...]\n",
    "gt_noisy = torch.tensor(im_noisy).cuda().reshape(H*W, 3)[None, ...]\n",
    "\n",
    "mse_array = torch.zeros(niters, device='cuda')\n",
    "mse_loss_array = torch.zeros(niters, device='cuda')\n",
    "time_array = torch.zeros_like(mse_array)\n",
    "\n",
    "best_mse = torch.tensor(float('inf'))\n",
    "best_img = None\n",
    "\n",
    "rec = torch.zeros_like(gt)\n",
    "\n",
    "init_time = time.time()"
   ]
  },
  {
   "cell_type": "code",
   "execution_count": 9,
   "id": "4f3a1f9c9cc8154f",
   "metadata": {},
   "outputs": [
    {
     "name": "stderr",
     "output_type": "stream",
     "text": [
      "26.2:   4%|▎         | 70/2000 [01:37<44:52,  1.40s/it]\n"
     ]
    },
    {
     "ename": "KeyboardInterrupt",
     "evalue": "",
     "output_type": "error",
     "traceback": [
      "\u001b[0;31m---------------------------------------------------------------------------\u001b[0m",
      "\u001b[0;31mKeyboardInterrupt\u001b[0m                         Traceback (most recent call last)",
      "Cell \u001b[0;32mIn[9], line 8\u001b[0m\n\u001b[1;32m      6\u001b[0m \u001b[38;5;28;01mfor\u001b[39;00m b_idx \u001b[38;5;129;01min\u001b[39;00m \u001b[38;5;28mrange\u001b[39m(\u001b[38;5;241m0\u001b[39m, H\u001b[38;5;241m*\u001b[39mW, maxpoints):\n\u001b[1;32m      7\u001b[0m     b_indices \u001b[38;5;241m=\u001b[39m indices[b_idx:\u001b[38;5;28mmin\u001b[39m(H\u001b[38;5;241m*\u001b[39mW, b_idx\u001b[38;5;241m+\u001b[39mmaxpoints)]\n\u001b[0;32m----> 8\u001b[0m     b_coords \u001b[38;5;241m=\u001b[39m \u001b[43mcoords\u001b[49m\u001b[43m[\u001b[49m\u001b[43m:\u001b[49m\u001b[43m,\u001b[49m\u001b[43m \u001b[49m\u001b[43mb_indices\u001b[49m\u001b[43m,\u001b[49m\u001b[43m \u001b[49m\u001b[38;5;241;43m.\u001b[39;49m\u001b[38;5;241;43m.\u001b[39;49m\u001b[38;5;241;43m.\u001b[39;49m\u001b[43m]\u001b[49m\u001b[38;5;241;43m.\u001b[39;49m\u001b[43mcuda\u001b[49m\u001b[43m(\u001b[49m\u001b[43m)\u001b[49m\n\u001b[1;32m      9\u001b[0m     b_indices \u001b[38;5;241m=\u001b[39m b_indices\u001b[38;5;241m.\u001b[39mcuda()\n\u001b[1;32m     10\u001b[0m     pixelvalues \u001b[38;5;241m=\u001b[39m model(b_coords)\n",
      "\u001b[0;31mKeyboardInterrupt\u001b[0m: "
     ]
    }
   ],
   "source": [
    "tbar = tqdm(range(niters))\n",
    "# -------------------------------- Training Loop ---------------------------------\n",
    "for epoch in tbar:\n",
    "    indices = torch.randperm(H*W)\n",
    "    \n",
    "    for b_idx in range(0, H*W, maxpoints):\n",
    "        b_indices = indices[b_idx:min(H*W, b_idx+maxpoints)]\n",
    "        b_coords = coords[:, b_indices, ...].cuda()\n",
    "        b_indices = b_indices.cuda()\n",
    "        pixelvalues = model(b_coords)\n",
    "        \n",
    "        with torch.no_grad():\n",
    "            rec[:, b_indices, :] = pixelvalues\n",
    "\n",
    "        loss = ((pixelvalues - gt_noisy[:, b_indices, :])**2).mean() \n",
    "        \n",
    "        optim.zero_grad()\n",
    "        loss.backward()\n",
    "        optim.step()\n",
    "    \n",
    "    time_array[epoch] = time.time() - init_time\n",
    "    \n",
    "    with torch.no_grad():\n",
    "        mse_loss_array[epoch] = ((gt_noisy - rec)**2).mean().item()\n",
    "        mse_array[epoch] = ((gt - rec)**2).mean().item()\n",
    "        im_gt = gt.reshape(H, W, 3).permute(2, 0, 1)[None, ...]\n",
    "        im_rec = rec.reshape(H, W, 3).permute(2, 0, 1)[None, ...]\n",
    "    \n",
    "        psnrval = -10*torch.log10(mse_array[epoch])\n",
    "        tbar.set_description('%.1f'%psnrval)\n",
    "        tbar.refresh()\n",
    "    \n",
    "    scheduler.step()\n",
    "    \n",
    "    imrec = rec[0, ...].reshape(H, W, 3).detach().cpu().numpy()\n",
    "        \n",
    "    # cv2.imshow('Reconstruction', imrec[..., ::-1])            \n",
    "    # cv2.waitKey(1)\n",
    "\n",
    "    if (mse_array[epoch] < best_mse) or (epoch == 0):\n",
    "        best_mse = mse_array[epoch]\n",
    "        best_img = imrec\n",
    "\n",
    "if posencode:\n",
    "    nonlin = 'posenc'\n",
    "    \n",
    "mdict = {'rec': best_img,\n",
    "         'gt': im,\n",
    "         'im_noisy': im_noisy,\n",
    "         'mse_noisy_array': mse_loss_array.detach().cpu().numpy(), \n",
    "         'mse_array': mse_array.detach().cpu().numpy(),\n",
    "         'time_array': time_array.detach().cpu().numpy()}\n",
    "\n",
    "os.makedirs('results/denoising', exist_ok=True)\n",
    "io.savemat('results/denoising/%s.mat'%nonlin, mdict)\n",
    "\n",
    "print('Best PSNR: %.2f dB'%utils.psnr(im, best_img))"
   ]
  },
  {
   "cell_type": "code",
   "execution_count": null,
   "id": "332c22f492daced",
   "metadata": {},
   "outputs": [],
   "source": [
    "best_img = mdict['best_img']\n",
    "plt.imshow(best_img)\n",
    "plt.title('Best Image')\n",
    "plt.axis('off')  # Hide axis\n",
    "plt.show()"
   ]
  },
  {
   "cell_type": "code",
   "execution_count": null,
   "id": "4c89fea2c47965b1",
   "metadata": {},
   "outputs": [],
   "source": [
    "best_img.shape\n",
    "plt.imsave('best_image.png', best_img)"
   ]
  },
  {
   "cell_type": "code",
   "execution_count": null,
   "id": "c7feccdbfc8afac0",
   "metadata": {},
   "outputs": [],
   "source": [
    "mdict"
   ]
  },
  {
   "cell_type": "code",
   "execution_count": null,
   "id": "f164c52478a2d6d2",
   "metadata": {},
   "outputs": [],
   "source": []
  }
 ],
 "metadata": {
  "kernelspec": {
   "display_name": "inr_ev2",
   "language": "python",
   "name": "python3"
  },
  "language_info": {
   "codemirror_mode": {
    "name": "ipython",
    "version": 3
   },
   "file_extension": ".py",
   "mimetype": "text/x-python",
   "name": "python",
   "nbconvert_exporter": "python",
   "pygments_lexer": "ipython3",
   "version": "3.12.7"
  }
 },
 "nbformat": 4,
 "nbformat_minor": 5
}
